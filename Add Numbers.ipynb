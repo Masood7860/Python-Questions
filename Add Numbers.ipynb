{
 "cells": [
  {
   "cell_type": "code",
   "execution_count": 1,
   "id": "5cc14d10",
   "metadata": {},
   "outputs": [
    {
     "name": "stdout",
     "output_type": "stream",
     "text": [
      "Enter First number:45\n",
      "Enter Second number55\n",
      "sum of 45 and 55 is 100\n"
     ]
    }
   ],
   "source": [
    "# This program add two numbers\n",
    "\n",
    "num1 = int(input('Enter First number:'))\n",
    "num2 = int(input('Enter Second number'))\n",
    "\n",
    "# add two numbers\n",
    "sum = num1 + num2\n",
    "\n",
    "# Display the sum\n",
    "print('sum of {0} and {1} is {2}'.format(num1, num2, sum))"
   ]
  },
  {
   "cell_type": "code",
   "execution_count": 2,
   "id": "b4d15907",
   "metadata": {},
   "outputs": [
    {
     "name": "stdout",
     "output_type": "stream",
     "text": [
      "Sum of 36 and 81 is 117\n"
     ]
    }
   ],
   "source": [
    "# This program add two numbers\n",
    "\n",
    "num1 = 36\n",
    "num2 = 81\n",
    "\n",
    "# add two numbers\n",
    "sum = num1 + num2\n",
    "\n",
    "# Display the sum\n",
    "print('Sum of {0} and {1} is {2}'.format(num1, num2, sum))"
   ]
  },
  {
   "cell_type": "code",
   "execution_count": 3,
   "id": "c03db819",
   "metadata": {},
   "outputs": [
    {
     "name": "stdout",
     "output_type": "stream",
     "text": [
      "Sum of 45 and 53 is 98.0\n"
     ]
    }
   ],
   "source": [
    "# store input numbers\n",
    "\n",
    "num1 = 45\n",
    "num2 = 53\n",
    "\n",
    "# Add two numbers\n",
    "\n",
    "sum = float(num1) + float(num2)\n",
    "\n",
    "print('Sum of {0} and {1} is {2}'.format(num1, num2, sum))"
   ]
  },
  {
   "cell_type": "code",
   "execution_count": 4,
   "id": "08fe6a93",
   "metadata": {},
   "outputs": [
    {
     "name": "stdout",
     "output_type": "stream",
     "text": [
      "Enter First Number45\n",
      "Enter Second Number55\n",
      "Sum of 45 and 55 is 100.0\n"
     ]
    }
   ],
   "source": [
    "# store input numbers\n",
    "\n",
    "num1 = input('Enter First Number')\n",
    "num2 = input('Enter Second Number')\n",
    "\n",
    "# Add two numbers\n",
    "sum = float(num1) + float(num2)\n",
    "\n",
    "# Display the sum\n",
    "print('Sum of {0} and {1} is {2}'.format(num1,num2,sum))"
   ]
  },
  {
   "cell_type": "code",
   "execution_count": 5,
   "id": "ba5ff068",
   "metadata": {},
   "outputs": [
    {
     "name": "stdout",
     "output_type": "stream",
     "text": [
      "Enter first number: 45\n",
      "Enter second number: 55\n",
      "The sum is 100.0\n"
     ]
    }
   ],
   "source": [
    "print('The sum is %.1f' %(float(input('Enter first number: ')) + float(input('Enter second number: '))))  # 1f - Floating point precision number"
   ]
  },
  {
   "cell_type": "code",
   "execution_count": 6,
   "id": "42c71705",
   "metadata": {},
   "outputs": [
    {
     "name": "stdout",
     "output_type": "stream",
     "text": [
      "Enter first number: 45\n",
      "Enter second number: 55\n",
      "The sum is 100.00\n"
     ]
    }
   ],
   "source": [
    "print('The sum is %.2f' %(float(input('Enter first number: ')) + float(input('Enter second number: '))))  # 1f - Floating point precision number"
   ]
  },
  {
   "cell_type": "code",
   "execution_count": 7,
   "id": "1cea0c55",
   "metadata": {},
   "outputs": [
    {
     "name": "stdout",
     "output_type": "stream",
     "text": [
      "Enter first number45\n",
      "Enter second number: 55\n",
      "The sum is 100\n"
     ]
    }
   ],
   "source": [
    "print('The sum is %.1d' %(int(input('Enter first number')) + int(input('Enter second number: ')))) # 1d - integer point precision number"
   ]
  },
  {
   "cell_type": "code",
   "execution_count": 8,
   "id": "a2e9aea8",
   "metadata": {},
   "outputs": [
    {
     "name": "stdout",
     "output_type": "stream",
     "text": [
      "sum of 45 and 55 is 100\n"
     ]
    }
   ],
   "source": [
    "# python program to add two numbers\n",
    "\n",
    "#driver code\n",
    "if __name__ == \"__main__\":\n",
    "    \n",
    "    num1 = 45\n",
    "    num2 = 55\n",
    "    \n",
    "# Adding two numbers\n",
    "\n",
    "sum_twonum = lambda num1, num2 : num1 + num2\n",
    "\n",
    "# printing values\n",
    "\n",
    "print('sum of {0} and {1} is {2}'.format(num1, num2, sum_twonum(num1, num2)))"
   ]
  },
  {
   "cell_type": "code",
   "execution_count": 9,
   "id": "775c6b8b",
   "metadata": {},
   "outputs": [
    {
     "name": "stdout",
     "output_type": "stream",
     "text": [
      "Sum of 55 and 45 is 100\n"
     ]
    }
   ],
   "source": [
    "#To define a function that take two integers and return the sum of those two numbers\n",
    "def add(a,b):\n",
    "    return a+b\n",
    "\n",
    "# initializing the variables\n",
    "num1 = 55\n",
    "num2 = 45\n",
    "\n",
    "# function calling and store the result into sum_of_twonumbers\n",
    "sum_of_twonumbers = add(num1, num2)\n",
    "\n",
    "# To print the result\n",
    "print(\"Sum of {0} and {1} is {2}\".format(num1, num2, sum_of_twonumbers))"
   ]
  },
  {
   "cell_type": "code",
   "execution_count": 10,
   "id": "65a6f24c",
   "metadata": {},
   "outputs": [
    {
     "name": "stdout",
     "output_type": "stream",
     "text": [
      "The sum of 45,55 and 100 is 200\n"
     ]
    }
   ],
   "source": [
    "num1 = 45\n",
    "num2 = 55\n",
    "num3 = 100\n",
    "\n",
    "sum = num1 + num2+ num3\n",
    "\n",
    "print('The sum of {0},{1} and {2} is {3}'.format(num1, num2, num3, sum))"
   ]
  },
  {
   "cell_type": "code",
   "execution_count": 11,
   "id": "40e16ca4",
   "metadata": {},
   "outputs": [
    {
     "name": "stdout",
     "output_type": "stream",
     "text": [
      "Enter first number45\n",
      "Enter second number55\n",
      "Enter third number100\n",
      "The sum of 45,55 and 100 is 200\n"
     ]
    }
   ],
   "source": [
    "num1 = int(input('Enter first number'))\n",
    "num2 = int(input('Enter second number'))\n",
    "num3 = int(input('Enter third number'))\n",
    "\n",
    "sum = num1 + num2+ num3\n",
    "\n",
    "print('The sum of {0},{1} and {2} is {3}'.format(num1, num2, num3, sum))"
   ]
  },
  {
   "cell_type": "code",
   "execution_count": 12,
   "id": "0a8ae8ea",
   "metadata": {},
   "outputs": [
    {
     "name": "stdout",
     "output_type": "stream",
     "text": [
      "The sum of 45,55 and 100 is 200.0\n"
     ]
    }
   ],
   "source": [
    "num1 = 45\n",
    "num2 = 55\n",
    "num3 = 100\n",
    "\n",
    "sum = float(num1) + float(num2) + float(num3)\n",
    "\n",
    "print('The sum of {0},{1} and {2} is {3}'.format(num1, num2, num3, sum))"
   ]
  },
  {
   "cell_type": "code",
   "execution_count": 13,
   "id": "2851309d",
   "metadata": {},
   "outputs": [
    {
     "name": "stdout",
     "output_type": "stream",
     "text": [
      "Enter First number45\n",
      "Enter Second number55\n",
      "Enter Third number100\n",
      "The sum of 45,55 and 100 is 200.0\n"
     ]
    }
   ],
   "source": [
    "num1 = input('Enter First number')\n",
    "num2 = input('Enter Second number')\n",
    "num3 = input('Enter Third number')\n",
    "\n",
    "sum = float(num1) + float(num2) + float(num3)\n",
    "\n",
    "print('The sum of {0},{1} and {2} is {3}'.format(num1, num2, num3, sum))"
   ]
  },
  {
   "cell_type": "code",
   "execution_count": 14,
   "id": "739783dc",
   "metadata": {},
   "outputs": [
    {
     "name": "stdout",
     "output_type": "stream",
     "text": [
      "Enter First Number45\n",
      "Enter second number55\n",
      "Enter Third number100\n",
      "The sum is 200.0\n"
     ]
    }
   ],
   "source": [
    "print('The sum is %.1f' %(float(input('Enter First Number')) + float(input('Enter second number')) + float(input('Enter Third number'))))"
   ]
  },
  {
   "cell_type": "code",
   "execution_count": 15,
   "id": "7879b345",
   "metadata": {},
   "outputs": [
    {
     "name": "stdout",
     "output_type": "stream",
     "text": [
      "Enter First Number45\n",
      "Enter second number55\n",
      "Enter Third number100\n",
      "The sum is 200.00\n"
     ]
    }
   ],
   "source": [
    "print('The sum is %.2f' %(float(input('Enter First Number')) + float(input('Enter second number')) + float(input('Enter Third number'))))"
   ]
  },
  {
   "cell_type": "code",
   "execution_count": 16,
   "id": "418e414d",
   "metadata": {},
   "outputs": [
    {
     "name": "stdout",
     "output_type": "stream",
     "text": [
      "Enter First Number45\n",
      "Enter Second Number55\n",
      "Enter Third Number100\n",
      "The sum is200\n"
     ]
    }
   ],
   "source": [
    "print('The sum is%.1d' %(int(input('Enter First Number')) + int(input('Enter Second Number')) + int(input('Enter Third Number'))))"
   ]
  },
  {
   "cell_type": "code",
   "execution_count": 17,
   "id": "fda46322",
   "metadata": {},
   "outputs": [
    {
     "name": "stdout",
     "output_type": "stream",
     "text": [
      "Sum of 45 , 55 and 100 is 200\n"
     ]
    }
   ],
   "source": [
    "num1 = 45\n",
    "num2 = 55\n",
    "num3 = 100\n",
    "\n",
    "sum_of_twonumbers = lambda num1, num2, num3 : num1 + num2 + num3\n",
    "\n",
    "print('Sum of {0} , {1} and {2} is {3}'.format(num1, num2, num3, sum_of_twonumbers(num1, num2, num3)))"
   ]
  },
  {
   "cell_type": "code",
   "execution_count": 18,
   "id": "fb22c599",
   "metadata": {},
   "outputs": [
    {
     "name": "stdout",
     "output_type": "stream",
     "text": [
      "Sum of 45 , 55 and 100 is 200\n"
     ]
    }
   ],
   "source": [
    "# driver_code\n",
    "\n",
    "if __name__ == \"__main__\":\n",
    "    \n",
    "    num1 = 45\n",
    "    num2 = 55\n",
    "    num3 = 100\n",
    "\n",
    "sum_of_twonumbers = lambda num1, num2, num3 : num1 + num2 + num3\n",
    "\n",
    "print('Sum of {0} , {1} and {2} is {3}'.format(num1, num2, num3, sum_of_twonumbers(num1, num2, num3)))"
   ]
  },
  {
   "cell_type": "code",
   "execution_count": 19,
   "id": "76ac2178",
   "metadata": {},
   "outputs": [
    {
     "name": "stdout",
     "output_type": "stream",
     "text": [
      "Enter First Number45\n",
      "Enter Second Number55\n",
      "Enter Third Number100\n",
      "sum of 45, 55 and 100 is 200\n"
     ]
    }
   ],
   "source": [
    "def add(a,b,c):\n",
    "    return a+b+c\n",
    "a = int(input('Enter First Number'))\n",
    "b = int(input('Enter Second Number'))\n",
    "c = int(input('Enter Third Number'))\n",
    "\n",
    "sum_of_threenumbers = add(a,b,c)\n",
    "\n",
    "print('sum of {0}, {1} and {2} is {3}'.format(a,b,c, sum_of_threenumbers))"
   ]
  }
 ],
 "metadata": {
  "kernelspec": {
   "display_name": "Python 3",
   "language": "python",
   "name": "python3"
  },
  "language_info": {
   "codemirror_mode": {
    "name": "ipython",
    "version": 3
   },
   "file_extension": ".py",
   "mimetype": "text/x-python",
   "name": "python",
   "nbconvert_exporter": "python",
   "pygments_lexer": "ipython3",
   "version": "3.8.8"
  }
 },
 "nbformat": 4,
 "nbformat_minor": 5
}
