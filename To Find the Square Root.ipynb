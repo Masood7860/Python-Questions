{
 "cells": [
  {
   "cell_type": "code",
   "execution_count": 1,
   "id": "21f0121a",
   "metadata": {},
   "outputs": [
    {
     "name": "stdout",
     "output_type": "stream",
     "text": [
      "The Square root of 8.000 is 2.828\n"
     ]
    }
   ],
   "source": [
    "# Python Program to Find the Square Root\n",
    "\n",
    "# Note: Change this value for a different result\n",
    "\n",
    "num = 8\n",
    "\n",
    "num_sqrt = num ** 0.5\n",
    "\n",
    "print('The Square root of %0.3f is %0.3f' %(num, num_sqrt))"
   ]
  },
  {
   "cell_type": "code",
   "execution_count": 2,
   "id": "b1332a71",
   "metadata": {},
   "outputs": [
    {
     "name": "stdout",
     "output_type": "stream",
     "text": [
      "Enter a number:49\n",
      "The Square root of 49.000 is 7.000\n"
     ]
    }
   ],
   "source": [
    "# Python Program to Find the Square Root\n",
    "\n",
    "# Note: Change this value for a different result\n",
    "\n",
    "num = float(input('Enter a number:'))\n",
    "\n",
    "num_sqrt = num ** 0.5\n",
    "\n",
    "print('The Square root of %0.3f is %0.3f' %(num, num_sqrt))"
   ]
  },
  {
   "cell_type": "code",
   "execution_count": 3,
   "id": "07c2f1e1",
   "metadata": {},
   "outputs": [
    {
     "name": "stdout",
     "output_type": "stream",
     "text": [
      "The Square root of (1+2j) is 1.272+0.786j\n"
     ]
    }
   ],
   "source": [
    "# Find square root of real or complex numbers\n",
    "# Importing the complex math module\n",
    "\n",
    "import cmath\n",
    "\n",
    "num = 1+2j\n",
    "\n",
    "num_sqrt = cmath.sqrt(num)\n",
    "\n",
    "print('The Square root of {0} is {1:0.3f}+{2:0.3f}j'.format(num ,num_sqrt.real,num_sqrt.imag))"
   ]
  },
  {
   "cell_type": "code",
   "execution_count": 4,
   "id": "b3069cfc",
   "metadata": {},
   "outputs": [
    {
     "name": "stdout",
     "output_type": "stream",
     "text": [
      "The Square root of (1+2j) is (1.272019649514069+0.7861513777574233j)\n"
     ]
    }
   ],
   "source": [
    "# Find square root of real or complex numbers\n",
    "# Importing the complex math module\n",
    "\n",
    "import cmath\n",
    "\n",
    "num = 1+2j\n",
    "\n",
    "num_sqrt = cmath.sqrt(num)\n",
    "\n",
    "print('The Square root of {0} is {1}'.format(num ,num_sqrt))"
   ]
  },
  {
   "cell_type": "code",
   "execution_count": 5,
   "id": "eca8785e",
   "metadata": {},
   "outputs": [
    {
     "ename": "TypeError",
     "evalue": "can't convert complex to float",
     "output_type": "error",
     "traceback": [
      "\u001b[1;31m---------------------------------------------------------------------------\u001b[0m",
      "\u001b[1;31mTypeError\u001b[0m                                 Traceback (most recent call last)",
      "\u001b[1;32m<ipython-input-5-376c8744e56a>\u001b[0m in \u001b[0;36m<module>\u001b[1;34m\u001b[0m\n\u001b[0;32m      8\u001b[0m \u001b[0mnum_sqrt\u001b[0m \u001b[1;33m=\u001b[0m \u001b[0mcmath\u001b[0m\u001b[1;33m.\u001b[0m\u001b[0msqrt\u001b[0m\u001b[1;33m(\u001b[0m\u001b[0mnum\u001b[0m\u001b[1;33m)\u001b[0m\u001b[1;33m\u001b[0m\u001b[1;33m\u001b[0m\u001b[0m\n\u001b[0;32m      9\u001b[0m \u001b[1;33m\u001b[0m\u001b[0m\n\u001b[1;32m---> 10\u001b[1;33m \u001b[0mprint\u001b[0m\u001b[1;33m(\u001b[0m\u001b[1;34m'The Square root of %0.2f is %0.2f'\u001b[0m \u001b[1;33m%\u001b[0m\u001b[1;33m(\u001b[0m\u001b[0mnum\u001b[0m \u001b[1;33m,\u001b[0m\u001b[0mnum_sqrt\u001b[0m\u001b[1;33m)\u001b[0m\u001b[1;33m)\u001b[0m\u001b[1;33m\u001b[0m\u001b[1;33m\u001b[0m\u001b[0m\n\u001b[0m",
      "\u001b[1;31mTypeError\u001b[0m: can't convert complex to float"
     ]
    }
   ],
   "source": [
    "# Find square root of real or complex numbers\n",
    "# Importing the complex math module\n",
    "\n",
    "import cmath\n",
    "\n",
    "num = 1+2j\n",
    "\n",
    "num_sqrt = cmath.sqrt(num)\n",
    "\n",
    "print('The Square root of %0.2f is %0.2f' %(num ,num_sqrt))"
   ]
  },
  {
   "cell_type": "code",
   "execution_count": 6,
   "id": "e3211833",
   "metadata": {},
   "outputs": [
    {
     "data": {
      "text/plain": [
       "4.0"
      ]
     },
     "execution_count": 6,
     "metadata": {},
     "output_type": "execute_result"
    }
   ],
   "source": [
    "import math \n",
    "\n",
    "math.sqrt(16)"
   ]
  },
  {
   "cell_type": "code",
   "execution_count": 7,
   "id": "98063b0c",
   "metadata": {},
   "outputs": [
    {
     "name": "stdout",
     "output_type": "stream",
     "text": [
      "0.0\n",
      "2.0\n",
      "1.8708286933869707\n"
     ]
    }
   ],
   "source": [
    "# Python3 program to demonstrate the \n",
    "# sqrt() method \n",
    "  \n",
    "# import the math module \n",
    "import math \n",
    "  \n",
    "# print the square root of  0 \n",
    "print(math.sqrt(0)) \n",
    "  \n",
    "# print the square root of 4\n",
    "print(math.sqrt(4)) \n",
    "  \n",
    "# print the square root of 3.5\n",
    "print(math.sqrt(3.5)) "
   ]
  },
  {
   "cell_type": "code",
   "execution_count": 8,
   "id": "ecb0ebf9",
   "metadata": {},
   "outputs": [
    {
     "ename": "ValueError",
     "evalue": "math domain error",
     "output_type": "error",
     "traceback": [
      "\u001b[1;31m---------------------------------------------------------------------------\u001b[0m",
      "\u001b[1;31mValueError\u001b[0m                                Traceback (most recent call last)",
      "\u001b[1;32m<ipython-input-8-e43fa3178688>\u001b[0m in \u001b[0;36m<module>\u001b[1;34m\u001b[0m\n\u001b[0;32m      6\u001b[0m \u001b[1;33m\u001b[0m\u001b[0m\n\u001b[0;32m      7\u001b[0m \u001b[1;31m# print the error when x<0\u001b[0m\u001b[1;33m\u001b[0m\u001b[1;33m\u001b[0m\u001b[1;33m\u001b[0m\u001b[0m\n\u001b[1;32m----> 8\u001b[1;33m \u001b[0mprint\u001b[0m\u001b[1;33m(\u001b[0m\u001b[0mmath\u001b[0m\u001b[1;33m.\u001b[0m\u001b[0msqrt\u001b[0m\u001b[1;33m(\u001b[0m\u001b[1;33m-\u001b[0m\u001b[1;36m1\u001b[0m\u001b[1;33m)\u001b[0m\u001b[1;33m)\u001b[0m\u001b[1;33m\u001b[0m\u001b[1;33m\u001b[0m\u001b[0m\n\u001b[0m",
      "\u001b[1;31mValueError\u001b[0m: math domain error"
     ]
    }
   ],
   "source": [
    "# Python3 program to demonstrate the error in \n",
    "# sqrt() method \n",
    "  \n",
    "# import the math module \n",
    "import math \n",
    "  \n",
    "# print the error when x<0 \n",
    "print(math.sqrt(-1)) "
   ]
  },
  {
   "cell_type": "code",
   "execution_count": 9,
   "id": "5cb57e85",
   "metadata": {},
   "outputs": [
    {
     "name": "stdout",
     "output_type": "stream",
     "text": [
      " Enter a number: 49\n",
      "The square root of a given number 49.0 = 7.0\n"
     ]
    }
   ],
   "source": [
    "# Using the pow() function \n",
    "import math\n",
    "num = float(input(\" Enter a number: \"))\n",
    "sqRoot = math.pow(num, 0.5)\n",
    "print(\"The square root of a given number {0} = {1}\".format(num, sqRoot)) "
   ]
  },
  {
   "cell_type": "code",
   "execution_count": 10,
   "id": "295b71b2",
   "metadata": {},
   "outputs": [],
   "source": [
    "# Using the exponent operator to calculate the square root in Python\n",
    "\n",
    "def sqRoot(n):\n",
    "    \n",
    "    if n < 0:\n",
    "        return\n",
    "    else:\n",
    "        return n**0.5\n",
    "        print(sqRoot(36))"
   ]
  },
  {
   "cell_type": "code",
   "execution_count": 11,
   "id": "26b3531e",
   "metadata": {},
   "outputs": [
    {
     "name": "stdout",
     "output_type": "stream",
     "text": [
      "Enter a number:81\n",
      "The square root of 81 is  9.0\n"
     ]
    }
   ],
   "source": [
    "# Using the sqrt() function to calculate the square root in Python\n",
    "import math\n",
    "num = int(input(\"Enter a number:\"))\n",
    "sqRoot = math.sqrt(num)\n",
    "print (f\"The square root of {num} is \" ,sqRoot)"
   ]
  },
  {
   "cell_type": "code",
   "execution_count": 12,
   "id": "23c0fba5",
   "metadata": {},
   "outputs": [
    {
     "ename": "SyntaxError",
     "evalue": "invalid character in identifier (<ipython-input-12-77b94f1744a8>, line 9)",
     "output_type": "error",
     "traceback": [
      "\u001b[1;36m  File \u001b[1;32m\"<ipython-input-12-77b94f1744a8>\"\u001b[1;36m, line \u001b[1;32m9\u001b[0m\n\u001b[1;33m    print(“The square root of {0} is {1:0.3f}+{2:0.3f}j”.format(num, num_sqRoot.real, num_sqRoot.imag))\u001b[0m\n\u001b[1;37m             ^\u001b[0m\n\u001b[1;31mSyntaxError\u001b[0m\u001b[1;31m:\u001b[0m invalid character in identifier\n"
     ]
    }
   ],
   "source": [
    "# Using the cmath module to calculate the square root of real or complex numbers in Python\n",
    "\n",
    "import math\n",
    "\n",
    "num = eval(input(\"Enter a number:\"))\n",
    "           \n",
    "num_sqRoot = cmath.sqrt(num)\n",
    "\n",
    "print(“The square root of {0} is {1:0.3f}+{2:0.3f}j”.format(num, num_sqRoot.real, num_sqRoot.imag))"
   ]
  }
 ],
 "metadata": {
  "kernelspec": {
   "display_name": "Python 3",
   "language": "python",
   "name": "python3"
  },
  "language_info": {
   "codemirror_mode": {
    "name": "ipython",
    "version": 3
   },
   "file_extension": ".py",
   "mimetype": "text/x-python",
   "name": "python",
   "nbconvert_exporter": "python",
   "pygments_lexer": "ipython3",
   "version": "3.8.8"
  }
 },
 "nbformat": 4,
 "nbformat_minor": 5
}
